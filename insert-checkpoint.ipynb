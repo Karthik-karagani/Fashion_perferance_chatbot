{
 "cells": [
  {
   "cell_type": "code",
   "execution_count": 1,
   "id": "27ff11d0-974c-4a39-a124-b3a639cda1cf",
   "metadata": {},
   "outputs": [],
   "source": [
    "import warnings\n",
    "warnings.filterwarnings('ignore')\n",
    "\n",
    "import pandas as pd\n",
    "df = pd.read_csv('finaldataset1.csv')"
   ]
  },
  {
   "cell_type": "code",
   "execution_count": 2,
   "id": "166f04c8-d31a-4cd6-9745-3054a0a2a5a5",
   "metadata": {},
   "outputs": [
    {
     "data": {
      "text/plain": [
       "(1826, 7)"
      ]
     },
     "execution_count": 2,
     "metadata": {},
     "output_type": "execute_result"
    }
   ],
   "source": [
    "df.shape"
   ]
  },
  {
   "cell_type": "code",
   "execution_count": 3,
   "id": "7cd8473c-33fa-46f5-a9f7-587bd4c27fca",
   "metadata": {},
   "outputs": [
    {
     "data": {
      "text/html": [
       "<div>\n",
       "<style scoped>\n",
       "    .dataframe tbody tr th:only-of-type {\n",
       "        vertical-align: middle;\n",
       "    }\n",
       "\n",
       "    .dataframe tbody tr th {\n",
       "        vertical-align: top;\n",
       "    }\n",
       "\n",
       "    .dataframe thead th {\n",
       "        text-align: right;\n",
       "    }\n",
       "</style>\n",
       "<table border=\"1\" class=\"dataframe\">\n",
       "  <thead>\n",
       "    <tr style=\"text-align: right;\">\n",
       "      <th></th>\n",
       "      <th>title</th>\n",
       "      <th>image</th>\n",
       "      <th>productlink</th>\n",
       "      <th>category</th>\n",
       "      <th>colour</th>\n",
       "      <th>gender</th>\n",
       "      <th>price</th>\n",
       "    </tr>\n",
       "  </thead>\n",
       "  <tbody>\n",
       "    <tr>\n",
       "      <th>0</th>\n",
       "      <td>Bigbanana Plus Size Men's Regular Fit Solid He...</td>\n",
       "      <td>https://m.media-amazon.com/images/I/41+JhIKQL9...</td>\n",
       "      <td>https://www.amazon.in/Bigbanana-Regular-Solid-...</td>\n",
       "      <td>tshirts</td>\n",
       "      <td>blue</td>\n",
       "      <td>men</td>\n",
       "      <td>679</td>\n",
       "    </tr>\n",
       "    <tr>\n",
       "      <th>1</th>\n",
       "      <td>HOODMASTAR Regular Fit Polo Half Sleeve T-Shir...</td>\n",
       "      <td>https://m.media-amazon.com/images/I/51gCBHntCS...</td>\n",
       "      <td>https://www.amazon.in/HOODMASTAR-Regular-Polo-...</td>\n",
       "      <td>tshirts</td>\n",
       "      <td>blue</td>\n",
       "      <td>men</td>\n",
       "      <td>241</td>\n",
       "    </tr>\n",
       "    <tr>\n",
       "      <th>2</th>\n",
       "      <td>Burundi Blu Solid Printed Men's Round Neck 100...</td>\n",
       "      <td>https://m.media-amazon.com/images/I/41mBx9UH5D...</td>\n",
       "      <td>https://www.amazon.in/Burundi-Blu-Printed-T-Sh...</td>\n",
       "      <td>tshirts</td>\n",
       "      <td>blue</td>\n",
       "      <td>men</td>\n",
       "      <td>439</td>\n",
       "    </tr>\n",
       "    <tr>\n",
       "      <th>3</th>\n",
       "      <td>fanideaz Men? Cotton Full Sleeve Unique Neck D...</td>\n",
       "      <td>https://m.media-amazon.com/images/I/41B20yi1IL...</td>\n",
       "      <td>https://www.amazon.in/fanideaz-Eye-catching-Sl...</td>\n",
       "      <td>tshirts</td>\n",
       "      <td>blue</td>\n",
       "      <td>men</td>\n",
       "      <td>519</td>\n",
       "    </tr>\n",
       "    <tr>\n",
       "      <th>4</th>\n",
       "      <td>ADRO Graphic Design Mens Printed T-Shirts</td>\n",
       "      <td>https://m.media-amazon.com/images/I/41O+Rphpm4...</td>\n",
       "      <td>https://www.amazon.in/ADRO-Graphic-Design-Prin...</td>\n",
       "      <td>tshirts</td>\n",
       "      <td>blue</td>\n",
       "      <td>men</td>\n",
       "      <td>349</td>\n",
       "    </tr>\n",
       "  </tbody>\n",
       "</table>\n",
       "</div>"
      ],
      "text/plain": [
       "                                               title  \\\n",
       "0  Bigbanana Plus Size Men's Regular Fit Solid He...   \n",
       "1  HOODMASTAR Regular Fit Polo Half Sleeve T-Shir...   \n",
       "2  Burundi Blu Solid Printed Men's Round Neck 100...   \n",
       "3  fanideaz Men? Cotton Full Sleeve Unique Neck D...   \n",
       "4          ADRO Graphic Design Mens Printed T-Shirts   \n",
       "\n",
       "                                               image  \\\n",
       "0  https://m.media-amazon.com/images/I/41+JhIKQL9...   \n",
       "1  https://m.media-amazon.com/images/I/51gCBHntCS...   \n",
       "2  https://m.media-amazon.com/images/I/41mBx9UH5D...   \n",
       "3  https://m.media-amazon.com/images/I/41B20yi1IL...   \n",
       "4  https://m.media-amazon.com/images/I/41O+Rphpm4...   \n",
       "\n",
       "                                         productlink category colour gender  \\\n",
       "0  https://www.amazon.in/Bigbanana-Regular-Solid-...  tshirts   blue    men   \n",
       "1  https://www.amazon.in/HOODMASTAR-Regular-Polo-...  tshirts   blue    men   \n",
       "2  https://www.amazon.in/Burundi-Blu-Printed-T-Sh...  tshirts   blue    men   \n",
       "3  https://www.amazon.in/fanideaz-Eye-catching-Sl...  tshirts   blue    men   \n",
       "4  https://www.amazon.in/ADRO-Graphic-Design-Prin...  tshirts   blue    men   \n",
       "\n",
       "  price  \n",
       "0   679  \n",
       "1   241  \n",
       "2   439  \n",
       "3   519  \n",
       "4   349  "
      ]
     },
     "execution_count": 3,
     "metadata": {},
     "output_type": "execute_result"
    }
   ],
   "source": [
    "df.head()"
   ]
  },
  {
   "cell_type": "code",
   "execution_count": 4,
   "id": "7f3239b9-5a40-4d6b-9833-23d7995c476c",
   "metadata": {},
   "outputs": [],
   "source": [
    "df['price'] = pd.to_numeric(df['price'].str.replace('₹','').str.replace(',',''))"
   ]
  },
  {
   "cell_type": "code",
   "execution_count": 5,
   "id": "da90df77",
   "metadata": {},
   "outputs": [
    {
     "name": "stdout",
     "output_type": "stream",
     "text": [
      "<class 'pandas.core.frame.DataFrame'>\n",
      "RangeIndex: 1826 entries, 0 to 1825\n",
      "Data columns (total 7 columns):\n",
      " #   Column       Non-Null Count  Dtype  \n",
      "---  ------       --------------  -----  \n",
      " 0   title        1795 non-null   object \n",
      " 1   image        1679 non-null   object \n",
      " 2   productlink  1795 non-null   object \n",
      " 3   category     1795 non-null   object \n",
      " 4   colour       1134 non-null   object \n",
      " 5   gender       1795 non-null   object \n",
      " 6   price        1785 non-null   float64\n",
      "dtypes: float64(1), object(6)\n",
      "memory usage: 100.0+ KB\n"
     ]
    }
   ],
   "source": [
    "df.info()"
   ]
  },
  {
   "cell_type": "code",
   "execution_count": 6,
   "id": "8e75e85f-02a3-43fe-aac1-e7d8632d6dc1",
   "metadata": {},
   "outputs": [
    {
     "data": {
      "text/plain": [
       "30"
      ]
     },
     "execution_count": 6,
     "metadata": {},
     "output_type": "execute_result"
    }
   ],
   "source": [
    "df.duplicated().sum()"
   ]
  },
  {
   "cell_type": "code",
   "execution_count": 7,
   "id": "4f7c731b-bee6-4c29-9259-bdd600678320",
   "metadata": {},
   "outputs": [
    {
     "data": {
      "text/plain": [
       "(1442, 7)"
      ]
     },
     "execution_count": 7,
     "metadata": {},
     "output_type": "execute_result"
    }
   ],
   "source": [
    "df = df.drop_duplicates(subset=['title'])\n",
    "df.shape"
   ]
  },
  {
   "cell_type": "code",
   "execution_count": 8,
   "id": "10ee86c3-b370-4612-90e9-8a5e75472fe7",
   "metadata": {},
   "outputs": [
    {
     "data": {
      "text/plain": [
       "title            1\n",
       "image           99\n",
       "productlink      1\n",
       "category         1\n",
       "colour         541\n",
       "gender           1\n",
       "price            8\n",
       "dtype: int64"
      ]
     },
     "execution_count": 8,
     "metadata": {},
     "output_type": "execute_result"
    }
   ],
   "source": [
    "df.isna().sum()"
   ]
  },
  {
   "cell_type": "code",
   "execution_count": 10,
   "id": "a5c110d3",
   "metadata": {},
   "outputs": [
    {
     "data": {
      "text/plain": [
       "title           1\n",
       "image          99\n",
       "productlink     1\n",
       "category        1\n",
       "colour          0\n",
       "gender          1\n",
       "price           8\n",
       "dtype: int64"
      ]
     },
     "execution_count": 10,
     "metadata": {},
     "output_type": "execute_result"
    }
   ],
   "source": [
    "df['colour'] = df['colour'].fillna('skin colour')\n",
    "df.isna().sum()"
   ]
  },
  {
   "cell_type": "code",
   "execution_count": 11,
   "id": "6ddd41b1-fd0d-42a3-b0ae-76e515d2a09a",
   "metadata": {},
   "outputs": [
    {
     "data": {
      "text/plain": [
       "(1336, 7)"
      ]
     },
     "execution_count": 11,
     "metadata": {},
     "output_type": "execute_result"
    }
   ],
   "source": [
    "df.dropna().shape"
   ]
  },
  {
   "cell_type": "code",
   "execution_count": 12,
   "id": "3e82e0c3-ee44-4014-92d1-eadd59c1988e",
   "metadata": {},
   "outputs": [
    {
     "data": {
      "text/plain": [
       "(1336, 7)"
      ]
     },
     "execution_count": 12,
     "metadata": {},
     "output_type": "execute_result"
    }
   ],
   "source": [
    "df = df.dropna()\n",
    "df.shape"
   ]
  },
  {
   "cell_type": "code",
   "execution_count": 14,
   "id": "c2d551e0-fdaf-4dd9-83b1-d4c41cf3ff6b",
   "metadata": {},
   "outputs": [
    {
     "name": "stdout",
     "output_type": "stream",
     "text": [
      "<class 'pandas.core.frame.DataFrame'>\n",
      "Index: 1336 entries, 0 to 1823\n",
      "Data columns (total 7 columns):\n",
      " #   Column       Non-Null Count  Dtype  \n",
      "---  ------       --------------  -----  \n",
      " 0   title        1336 non-null   object \n",
      " 1   image        1336 non-null   object \n",
      " 2   productlink  1336 non-null   object \n",
      " 3   category     1336 non-null   object \n",
      " 4   colour       1336 non-null   object \n",
      " 5   gender       1336 non-null   object \n",
      " 6   price        1336 non-null   float64\n",
      "dtypes: float64(1), object(6)\n",
      "memory usage: 83.5+ KB\n"
     ]
    }
   ],
   "source": [
    "df.info()"
   ]
  },
  {
   "cell_type": "code",
   "execution_count": 15,
   "id": "d46892ed-3b69-480c-8d17-615eb53eb3b5",
   "metadata": {},
   "outputs": [],
   "source": [
    "# from langchain_openai import OpenAIEmbeddings\n",
    "# import os\n",
    "# from dotenv import load_dotenv\n",
    "# load_dotenv('.env')\n",
    "\n",
    "# openai_embedding = OpenAIEmbeddings(openai_api_key=os.environ.get(\"OPENAI_API_KEY\"))\n",
    "\n",
    "# text = 'hello, how are you?'\n",
    "# query_vec = openai_embedding.embed_query(text)\n",
    "# len(query_vec)"
   ]
  },
  {
   "cell_type": "code",
   "execution_count": 16,
   "id": "67a4c379-9b19-4c96-a19c-99c6baf6b641",
   "metadata": {},
   "outputs": [
    {
     "data": {
      "text/plain": [
       "384"
      ]
     },
     "execution_count": 16,
     "metadata": {},
     "output_type": "execute_result"
    }
   ],
   "source": [
    "#https://www.sbert.net/docs/pretrained_models.html\n",
    "from dotenv import load_dotenv\n",
    "load_dotenv('.env')\n",
    "from sentence_transformers import SentenceTransformer\n",
    "model = SentenceTransformer(\"all-MiniLM-L6-v2\")\n",
    "\n",
    "text = 'hello, how are you?'\n",
    "query_vec = model.encode(text)\n",
    "query_vec = query_vec.tolist()\n",
    "len(query_vec)"
   ]
  },
  {
   "cell_type": "code",
   "execution_count": 17,
   "id": "c7df6c9f-590c-4bd7-9368-b5d365810981",
   "metadata": {},
   "outputs": [],
   "source": [
    "from pinecone import Pinecone,PodSpec\n",
    "import os\n",
    "pc = Pinecone(api_key=os.environ.get(\"PINECONE_API_KEY\"))\n",
    "pinecone_index_name = 'fashion-chatbopt-index'\n",
    "\n",
    "pc.create_index(\n",
    "    name=pinecone_index_name, \n",
    "    dimension=len(query_vec), \n",
    "    metric=\"cosine\", \n",
    "    spec=PodSpec( environment='gcp-starter', pod_type='s1.x1' ) \n",
    ")"
   ]
  },
  {
   "cell_type": "code",
   "execution_count": 18,
   "id": "dea3a564-a800-40e4-b9ae-3bb22328760c",
   "metadata": {},
   "outputs": [
    {
     "data": {
      "text/plain": [
       "{'indexes': [{'dimension': 384,\n",
       "              'host': 'fashion-chatbopt-index-v8wupjp.svc.gcp-starter.pinecone.io',\n",
       "              'metric': 'cosine',\n",
       "              'name': 'fashion-chatbopt-index',\n",
       "              'spec': {'pod': {'environment': 'gcp-starter',\n",
       "                               'pod_type': 'starter',\n",
       "                               'pods': 1,\n",
       "                               'replicas': 1,\n",
       "                               'shards': 1}},\n",
       "              'status': {'ready': True, 'state': 'Ready'}}]}"
      ]
     },
     "execution_count": 18,
     "metadata": {},
     "output_type": "execute_result"
    }
   ],
   "source": [
    "active_indexes = pc.list_indexes()\n",
    "active_indexes"
   ]
  },
  {
   "cell_type": "code",
   "execution_count": 19,
   "id": "8e920faf-1243-4eff-941b-b7d399c8af2d",
   "metadata": {},
   "outputs": [
    {
     "data": {
      "text/plain": [
       "{'dimension': 384,\n",
       " 'host': 'fashion-chatbopt-index-v8wupjp.svc.gcp-starter.pinecone.io',\n",
       " 'metric': 'cosine',\n",
       " 'name': 'fashion-chatbopt-index',\n",
       " 'spec': {'pod': {'environment': 'gcp-starter',\n",
       "                  'pod_type': 'starter',\n",
       "                  'pods': 1,\n",
       "                  'replicas': 1,\n",
       "                  'shards': 1}},\n",
       " 'status': {'ready': True, 'state': 'Ready'}}"
      ]
     },
     "execution_count": 19,
     "metadata": {},
     "output_type": "execute_result"
    }
   ],
   "source": [
    "index_description = pc.describe_index(pinecone_index_name)\n",
    "index_description"
   ]
  },
  {
   "cell_type": "code",
   "execution_count": 20,
   "id": "f3eecaba-b113-4fcd-a4ab-a0b0e1f082ef",
   "metadata": {},
   "outputs": [],
   "source": [
    "# from tqdm.auto import tqdm\n",
    "# import uuid\n",
    "# import pandas as pd\n",
    "# from pathlib import Path\n",
    "# import os\n",
    "\n",
    "# openai_api_key = os.environ.get(\"OPENAI_API_KEY\")\n",
    "# pinecone_api_key = os.environ.get(\"PINECONE_API_KEY\")\n",
    "\n",
    "# openai_embedding = OpenAIEmbeddings(openai_api_key=openai_api_key)\n",
    "# index = pc.Index(pinecone_index_name)\n",
    "# index"
   ]
  },
  {
   "cell_type": "code",
   "execution_count": 21,
   "id": "d2ea1a02-4622-4f9b-9472-be34eb078121",
   "metadata": {},
   "outputs": [],
   "source": [
    "# vector = []\n",
    "\n",
    "# for idx, row in tqdm(df.iterrows(), total=df.shape[0]):\n",
    "#     query_vec = openai_embedding.embed_query(row.title)\n",
    "#     vector.append({'id':uuid.uuid4().hex, \n",
    "#           'values':query_vec, \n",
    "#           'metadata':{'brand':row.brand,\n",
    "#                       'img': row.img,\n",
    "#                       'url':row.url,\n",
    "#                       'sold_price':row.sold_price,\n",
    "#                       'title':row.title}})\n",
    "#     if len(vector) == 50:\n",
    "#         index.upsert(vectors=vector)\n",
    "#         vector = []\n",
    "# index.upsert(vectors=vector)"
   ]
  },
  {
   "cell_type": "code",
   "execution_count": 22,
   "id": "e47d1a09-1759-4066-8077-7c9880e978d0",
   "metadata": {},
   "outputs": [
    {
     "data": {
      "text/plain": [
       "<pinecone.data.index.Index at 0x758878f10f40>"
      ]
     },
     "execution_count": 22,
     "metadata": {},
     "output_type": "execute_result"
    }
   ],
   "source": [
    "from tqdm.auto import tqdm\n",
    "import uuid\n",
    "import pandas as pd\n",
    "from pathlib import Path\n",
    "import os\n",
    "\n",
    "index = pc.Index(pinecone_index_name)\n",
    "index"
   ]
  },
  {
   "cell_type": "code",
   "execution_count": 23,
   "id": "0d0112a3",
   "metadata": {},
   "outputs": [
    {
     "data": {
      "text/html": [
       "<div>\n",
       "<style scoped>\n",
       "    .dataframe tbody tr th:only-of-type {\n",
       "        vertical-align: middle;\n",
       "    }\n",
       "\n",
       "    .dataframe tbody tr th {\n",
       "        vertical-align: top;\n",
       "    }\n",
       "\n",
       "    .dataframe thead th {\n",
       "        text-align: right;\n",
       "    }\n",
       "</style>\n",
       "<table border=\"1\" class=\"dataframe\">\n",
       "  <thead>\n",
       "    <tr style=\"text-align: right;\">\n",
       "      <th></th>\n",
       "      <th>title</th>\n",
       "      <th>image</th>\n",
       "      <th>productlink</th>\n",
       "      <th>category</th>\n",
       "      <th>colour</th>\n",
       "      <th>gender</th>\n",
       "      <th>price</th>\n",
       "    </tr>\n",
       "  </thead>\n",
       "  <tbody>\n",
       "    <tr>\n",
       "      <th>0</th>\n",
       "      <td>Bigbanana Plus Size Men's Regular Fit Solid He...</td>\n",
       "      <td>https://m.media-amazon.com/images/I/41+JhIKQL9...</td>\n",
       "      <td>https://www.amazon.in/Bigbanana-Regular-Solid-...</td>\n",
       "      <td>tshirts</td>\n",
       "      <td>blue</td>\n",
       "      <td>men</td>\n",
       "      <td>679.0</td>\n",
       "    </tr>\n",
       "    <tr>\n",
       "      <th>1</th>\n",
       "      <td>HOODMASTAR Regular Fit Polo Half Sleeve T-Shir...</td>\n",
       "      <td>https://m.media-amazon.com/images/I/51gCBHntCS...</td>\n",
       "      <td>https://www.amazon.in/HOODMASTAR-Regular-Polo-...</td>\n",
       "      <td>tshirts</td>\n",
       "      <td>blue</td>\n",
       "      <td>men</td>\n",
       "      <td>241.0</td>\n",
       "    </tr>\n",
       "    <tr>\n",
       "      <th>2</th>\n",
       "      <td>Burundi Blu Solid Printed Men's Round Neck 100...</td>\n",
       "      <td>https://m.media-amazon.com/images/I/41mBx9UH5D...</td>\n",
       "      <td>https://www.amazon.in/Burundi-Blu-Printed-T-Sh...</td>\n",
       "      <td>tshirts</td>\n",
       "      <td>blue</td>\n",
       "      <td>men</td>\n",
       "      <td>439.0</td>\n",
       "    </tr>\n",
       "    <tr>\n",
       "      <th>3</th>\n",
       "      <td>fanideaz Men? Cotton Full Sleeve Unique Neck D...</td>\n",
       "      <td>https://m.media-amazon.com/images/I/41B20yi1IL...</td>\n",
       "      <td>https://www.amazon.in/fanideaz-Eye-catching-Sl...</td>\n",
       "      <td>tshirts</td>\n",
       "      <td>blue</td>\n",
       "      <td>men</td>\n",
       "      <td>519.0</td>\n",
       "    </tr>\n",
       "    <tr>\n",
       "      <th>4</th>\n",
       "      <td>ADRO Graphic Design Mens Printed T-Shirts</td>\n",
       "      <td>https://m.media-amazon.com/images/I/41O+Rphpm4...</td>\n",
       "      <td>https://www.amazon.in/ADRO-Graphic-Design-Prin...</td>\n",
       "      <td>tshirts</td>\n",
       "      <td>blue</td>\n",
       "      <td>men</td>\n",
       "      <td>349.0</td>\n",
       "    </tr>\n",
       "  </tbody>\n",
       "</table>\n",
       "</div>"
      ],
      "text/plain": [
       "                                               title  \\\n",
       "0  Bigbanana Plus Size Men's Regular Fit Solid He...   \n",
       "1  HOODMASTAR Regular Fit Polo Half Sleeve T-Shir...   \n",
       "2  Burundi Blu Solid Printed Men's Round Neck 100...   \n",
       "3  fanideaz Men? Cotton Full Sleeve Unique Neck D...   \n",
       "4          ADRO Graphic Design Mens Printed T-Shirts   \n",
       "\n",
       "                                               image  \\\n",
       "0  https://m.media-amazon.com/images/I/41+JhIKQL9...   \n",
       "1  https://m.media-amazon.com/images/I/51gCBHntCS...   \n",
       "2  https://m.media-amazon.com/images/I/41mBx9UH5D...   \n",
       "3  https://m.media-amazon.com/images/I/41B20yi1IL...   \n",
       "4  https://m.media-amazon.com/images/I/41O+Rphpm4...   \n",
       "\n",
       "                                         productlink category colour gender  \\\n",
       "0  https://www.amazon.in/Bigbanana-Regular-Solid-...  tshirts   blue    men   \n",
       "1  https://www.amazon.in/HOODMASTAR-Regular-Polo-...  tshirts   blue    men   \n",
       "2  https://www.amazon.in/Burundi-Blu-Printed-T-Sh...  tshirts   blue    men   \n",
       "3  https://www.amazon.in/fanideaz-Eye-catching-Sl...  tshirts   blue    men   \n",
       "4  https://www.amazon.in/ADRO-Graphic-Design-Prin...  tshirts   blue    men   \n",
       "\n",
       "   price  \n",
       "0  679.0  \n",
       "1  241.0  \n",
       "2  439.0  \n",
       "3  519.0  \n",
       "4  349.0  "
      ]
     },
     "execution_count": 23,
     "metadata": {},
     "output_type": "execute_result"
    }
   ],
   "source": [
    "df.head()"
   ]
  },
  {
   "cell_type": "code",
   "execution_count": 24,
   "id": "aa1968df",
   "metadata": {},
   "outputs": [
    {
     "data": {
      "text/plain": [
       "Index(['title', 'image', 'productlink', 'category', 'colour', 'gender',\n",
       "       'price'],\n",
       "      dtype='object')"
      ]
     },
     "execution_count": 24,
     "metadata": {},
     "output_type": "execute_result"
    }
   ],
   "source": [
    "df.columns"
   ]
  },
  {
   "cell_type": "code",
   "execution_count": 25,
   "id": "1dad452d-0de1-420a-bb3f-9360aea020f4",
   "metadata": {},
   "outputs": [
    {
     "data": {
      "application/vnd.jupyter.widget-view+json": {
       "model_id": "31f3007b015a49cb98f37aea5a84631b",
       "version_major": 2,
       "version_minor": 0
      },
      "text/plain": [
       "  0%|          | 0/1336 [00:00<?, ?it/s]"
      ]
     },
     "metadata": {},
     "output_type": "display_data"
    }
   ],
   "source": [
    "vector = []\n",
    "\n",
    "for idx, row in tqdm(df.iterrows(), total=df.shape[0]):\n",
    "    query_vec = model.encode(row.title).tolist()\n",
    "    vector.append({'id':uuid.uuid4().hex, \n",
    "          'values':query_vec, \n",
    "          'metadata':{'title':row.title,\n",
    "                      'image': row.image,\n",
    "                      'productlink':row.productlink,\n",
    "                      'category':row.category.lower(),\n",
    "                      'color':row.colour.lower(),\n",
    "                      'gender':row.gender.lower(),\n",
    "                      'price':int(row.price)}})\n",
    "    \n",
    "    if len(vector) == 50:\n",
    "        index.upsert(vectors=vector)\n",
    "        vector = []\n",
    "if vector:\n",
    "    index.upsert(vectors=vector)"
   ]
  },
  {
   "cell_type": "code",
   "execution_count": 24,
   "id": "01693a43-5fb7-4514-9122-c76440eda7da",
   "metadata": {},
   "outputs": [
    {
     "data": {
      "text/plain": [
       "{'title': 'ANNI DESIGNER Women Kurta with Palazzo',\n",
       " 'image': 'https://m.media-amazon.com/images/I/41SoFidgbiL.jpg',\n",
       " 'productlink': 'https://www.amazon.in/ANNI-DESIGNER-Printed-Straight-ABP-Clrs_Maroon_Medium/dp/B0CNXMRPPR/ref=sr_1_61?dib=eyJ2IjoiMSJ9.grsMDJB5Xd90m-0nNf0xYztnEgSdhOqXhA7X8CavBR54ACVblUbfLw8sOpNSsQOkhBslUi8R_ytF4C6YB4YWJ8GhGLWKMD1pc326moGrc9Zrujc0RFAirAmpYhms5MH9xMu9IZC3Q8ud7P5SqUxWDkauXmCS16EwDO9U_6gY7NscgDM1c6vU6oPvjBwpky5uLPnlC0s2D1Ngv65O-pSdXweVJZSQZIK3tt_l5g7HVpV6IZlPHw9MNaUbSEmIGPsiTP4mKw-EX_vfYC2IDwO8uZkTSir0g5hpJDiQIYuo5sg.rubrPxDhzAiGbh-nsfe33yDII0ORTHZY5FdSPoU4h3I&dib_tag=se&qid=1709007006&s=apparel&sr=1-61',\n",
       " 'category': 'kurtas',\n",
       " 'colour': 'Maroon',\n",
       " 'gender': 'women',\n",
       " 'price': 469.0}"
      ]
     },
     "execution_count": 24,
     "metadata": {},
     "output_type": "execute_result"
    }
   ],
   "source": [
    "df.sample(1).reset_index(drop=True).to_dict('index')[0]"
   ]
  },
  {
   "cell_type": "code",
   "execution_count": null,
   "id": "6a3d3f81-f2ce-4d83-98e1-ab5b4486eedc",
   "metadata": {},
   "outputs": [
    {
     "data": {
      "text/plain": [
       "384"
      ]
     },
     "execution_count": 23,
     "metadata": {},
     "output_type": "execute_result"
    }
   ],
   "source": [
    "#https://www.sbert.net/docs/pretrained_models.html\n",
    "from dotenv import load_dotenv\n",
    "load_dotenv('.env')\n",
    "from sentence_transformers import SentenceTransformer\n",
    "model = SentenceTransformer(\"all-MiniLM-L6-v2\")\n",
    "\n",
    "text = 'hello, how are you?'\n",
    "query_vec = model.encode(text)\n",
    "query_vec = query_vec.tolist()\n",
    "len(query_vec)"
   ]
  },
  {
   "cell_type": "code",
   "execution_count": 25,
   "id": "afc70d77-9f12-4508-a01d-46a638be9bc3",
   "metadata": {},
   "outputs": [],
   "source": [
    "from tqdm.auto import tqdm\n",
    "import uuid\n",
    "import pandas as pd\n",
    "from pathlib import Path\n",
    "import os\n",
    "from pinecone import Pinecone\n",
    "\n",
    "pinecone_index_name = 'fashion-chatbopt-index'\n",
    "pc = Pinecone(api_key=os.environ.get(\"PINECONE_API_KEY\"))\n",
    "\n",
    "index = pc.Index(pinecone_index_name)\n",
    "\n",
    "query = 'Women Kurta'\n",
    "category = 'kurtas'\n",
    "colour = 'Maroon'\n",
    "gender = 'women'\n",
    "max_price = 1000\n",
    "min_price = 300\n",
    "k = 5\n",
    "\n",
    "query_filter = {}\n",
    "\n",
    "if category:\n",
    "    query_filter[\"category\"] =  { \"$eq\": category.lower() }\n",
    "\n",
    "if colour:\n",
    "    query_filter[\"color\"] =  { \"$eq\": colour.lower() }\n",
    "\n",
    "if gender:\n",
    "    query_filter[\"gender\"] =  { \"$eq\": gender.lower() }\n",
    "\n",
    "if max_price and min_price:\n",
    "    query_filter[\"$and\"] = [{\"price\": { \"$gte\": min_price }}, {\"price\": { \"$lte\": max_price }}]\n",
    "else:\n",
    "    if max_price:\n",
    "        query_filter[\"price\"] =  { \"$lte\": max_price }\n",
    "    if min_price:\n",
    "        query_filter[\"price\"] =  { \"$gte\": min_price }"
   ]
  },
  {
   "cell_type": "code",
   "execution_count": 26,
   "id": "fa7409de-545c-49c0-b2da-a8c8f14a4f1f",
   "metadata": {},
   "outputs": [
    {
     "data": {
      "text/plain": [
       "{'category': {'$eq': 'kurtas'},\n",
       " 'color': {'$eq': 'maroon'},\n",
       " 'gender': {'$eq': 'women'},\n",
       " '$and': [{'price': {'$gte': 300}}, {'price': {'$lte': 1000}}]}"
      ]
     },
     "execution_count": 26,
     "metadata": {},
     "output_type": "execute_result"
    }
   ],
   "source": [
    "query_filter"
   ]
  },
  {
   "cell_type": "code",
   "execution_count": 27,
   "id": "67413275-4cdf-42d1-a0fb-4c6db49386d2",
   "metadata": {},
   "outputs": [
    {
     "data": {
      "text/plain": [
       "[{'category': 'kurtas',\n",
       "  'color': 'maroon',\n",
       "  'gender': 'women',\n",
       "  'image': 'https://m.media-amazon.com/images/I/41SoFidgbiL.jpg',\n",
       "  'price': 469.0,\n",
       "  'productlink': 'https://www.amazon.in/ANNI-DESIGNER-Printed-Straight-ABP-Clrs_Maroon_Medium/dp/B0CNXMRPPR/ref=sr_1_61?dib=eyJ2IjoiMSJ9.grsMDJB5Xd90m-0nNf0xYztnEgSdhOqXhA7X8CavBR54ACVblUbfLw8sOpNSsQOkhBslUi8R_ytF4C6YB4YWJ8GhGLWKMD1pc326moGrc9Zrujc0RFAirAmpYhms5MH9xMu9IZC3Q8ud7P5SqUxWDkauXmCS16EwDO9U_6gY7NscgDM1c6vU6oPvjBwpky5uLPnlC0s2D1Ngv65O-pSdXweVJZSQZIK3tt_l5g7HVpV6IZlPHw9MNaUbSEmIGPsiTP4mKw-EX_vfYC2IDwO8uZkTSir0g5hpJDiQIYuo5sg.rubrPxDhzAiGbh-nsfe33yDII0ORTHZY5FdSPoU4h3I&dib_tag=se&qid=1709007006&s=apparel&sr=1-61',\n",
       "  'title': 'ANNI DESIGNER Women Kurta with Palazzo'},\n",
       " {'category': 'kurtas',\n",
       "  'color': 'maroon',\n",
       "  'gender': 'women',\n",
       "  'image': 'https://m.media-amazon.com/images/I/41aNp1y0JDL.jpg',\n",
       "  'price': 609.0,\n",
       "  'productlink': 'https://www.amazon.in/GoSriKi-Printed-Straight-Dupatta-Shank-Maroon-Nw08_XL-GS_Maroon_X-Large/dp/B0BTHCKZMQ/ref=sr_1_73?dib=eyJ2IjoiMSJ9.grsMDJB5Xd90m-0nNf0xYztnEgSdhOqXhA7X8CavBR54ACVblUbfLw8sOpNSsQOkhBslUi8R_ytF4C6YB4YWJ8GhGLWKMD1pc326moGrc9Zrujc0RFAirAmpYhms5MH9xMu9IZC3Q8ud7P5SqUxWDkauXmCS16EwDO9U_6gY7NscgDM1c6vU6oPvjBwpky5uLPnlC0s2D1Ngv65O-pSdXweVJZSQZIK3tt_l5g7HVpV6IZlPHw9MNaUbSEmIGPsiTP4mKw-EX_vfYC2IDwO8uZkTSir0g5hpJDiQIYuo5sg.rubrPxDhzAiGbh-nsfe33yDII0ORTHZY5FdSPoU4h3I&dib_tag=se&qid=1709007006&s=apparel&sr=1-73',\n",
       "  'title': \"GoSriKi Women's Rayon Floral Printed Straight Kurta with Pants & Dupatta (Shank-Maroon-Nw08-GS)\"},\n",
       " {'category': 'kurtas',\n",
       "  'color': 'maroon',\n",
       "  'gender': 'women',\n",
       "  'image': 'https://m.media-amazon.com/images/I/41SkRPElOfL.jpg',\n",
       "  'price': 775.0,\n",
       "  'productlink': 'https://www.amazon.in/Viva-Enterprise-Georgette-Anarkali-Dupatta/dp/B0CSYQQZTS/ref=sr_1_109?dib=eyJ2IjoiMSJ9.6s4OvOO05so42-huMMI7E1KuLEbS0mVoojN6uZ1OVUjpGea-wUp6LXxWqRTB1qHh88UA7uavOJl43MvEwacs6RoY03SEAzfZCP7TQS5othsLNkWhZnhyg4lEMRSVTukXc2heJUNWIiByAxRBC6V7sTYY6uU692v69B9gEL62Uqy0fPZt1PnvQk9Es4KvTobuF8bwKFSdbvhIYKqkNvt_dWxAw8hVeQSO2ED31zyDn3Y7SOhwvjm6VlR4ZjASHFA86mDOgTentn91lBzyH_lLNUSTZFS3JMdvaKUw7rGVbh8.qLhcHudZ_B3LXCfzUUi7p2IpU6PEP2xlNOG1UDDmVXs&dib_tag=se&qid=1709006791&s=apparel&sr=1-109',\n",
       "  'title': 'Viva Enterprise Women Floral Print Georgette Anarkali Kurta with Attached Dupatta'}]"
      ]
     },
     "execution_count": 27,
     "metadata": {},
     "output_type": "execute_result"
    }
   ],
   "source": [
    "query_vec = model.encode(query).tolist()\n",
    "query_response = index.query(\n",
    "    top_k=k,\n",
    "    include_metadata=True,\n",
    "    vector=query_vec,\n",
    "    filter=query_filter)\n",
    "\n",
    "results = [i['metadata'] for i in query_response['matches']]\n",
    "results"
   ]
  },
  {
   "cell_type": "code",
   "execution_count": 46,
   "id": "83071cf6-bbc4-49db-a035-c7f0872be859",
   "metadata": {},
   "outputs": [],
   "source": [
    "from tqdm.auto import tqdm\n",
    "import uuid\n",
    "import pandas as pd\n",
    "from pathlib import Path\n",
    "import os\n",
    "from pinecone import Pinecone\n",
    "\n",
    "pinecone_index_name = 'fashion-chatbopt-index'\n",
    "pc = Pinecone(api_key=os.environ.get(\"PINECONE_API_KEY\"))\n",
    "\n",
    "index = pc.Index(pinecone_index_name)\n",
    "\n",
    "def get_query_filter(category,colour,gender,max_price,min_price):\n",
    "    query_filter = {}\n",
    "    if category:\n",
    "        query_filter[\"category\"] =  { \"$eq\": category.lower() }\n",
    "\n",
    "    if colour:\n",
    "        query_filter[\"color\"] =  { \"$eq\": colour.lower() }\n",
    "\n",
    "    if gender:\n",
    "        query_filter[\"gender\"] =  { \"$eq\": gender.lower() }\n",
    "\n",
    "    if max_price and min_price:\n",
    "        query_filter[\"$and\"] = [{\"price\": { \"$gte\": min_price }}, {\"price\": { \"$lte\": max_price }}]\n",
    "    else:\n",
    "        if max_price:\n",
    "            query_filter[\"price\"] =  { \"$lte\": max_price }\n",
    "        if min_price:\n",
    "            query_filter[\"price\"] =  { \"$gte\": min_price }\n",
    "\n",
    "    return query_filter\n",
    "\n",
    "def get_similar_prod_details(query,category,colour,gender,max_price,min_price,k=3):\n",
    "    query_filter = get_query_filter(category,colour,gender,max_price,min_price)\n",
    "    query_vec = model.encode(query).tolist()\n",
    "    \n",
    "    query_response = index.query(\n",
    "        top_k=k,\n",
    "        include_metadata=True,\n",
    "        vector=query_vec,\n",
    "        filter=query_filter)\n",
    "    \n",
    "    results = [i['metadata'] for i in query_response['matches']]\n",
    "    return results"
   ]
  },
  {
   "cell_type": "code",
   "execution_count": 47,
   "id": "caeb3301-6a83-4819-a767-7c0835db1bba",
   "metadata": {},
   "outputs": [
    {
     "data": {
      "text/plain": [
       "[{'category': 'kurtas',\n",
       "  'color': 'black',\n",
       "  'gender': 'women',\n",
       "  'image': 'https://m.media-amazon.com/images/I/41uyp3EtkCL.jpg',\n",
       "  'price': 679.0,\n",
       "  'productlink': 'https://www.amazon.in/Arayna-Womens-Printed-Palazzo-X-Large/dp/B0CH9ZJFJG/ref=sr_1_110?dib=eyJ2IjoiMSJ9.6s4OvOO05so42-huMMI7E1KuLEbS0mVoojN6uZ1OVUjpGea-wUp6LXxWqRTB1qHh88UA7uavOJl43MvEwacs6RoY03SEAzfZCP7TQS5othsLNkWhZnhyg4lEMRSVTukXc2heJUNWIiByAxRBC6V7sTYY6uU692v69B9gEL62Uqy0fPZt1PnvQk9Es4KvTobuF8bwKFSdbvhIYKqkNvt_dWxAw8hVeQSO2ED31zyDn3Y7SOhwvjm6VlR4ZjASHFA86mDOgTentn91lBzyH_lLNUSTZFS3JMdvaKUw7rGVbh8.qLhcHudZ_B3LXCfzUUi7p2IpU6PEP2xlNOG1UDDmVXs&dib_tag=se&qid=1709006791&s=apparel&sr=1-110',\n",
       "  'title': \"Arayna Women's Gold Printed Rayon Black Kurta Set with Ethnic Palazzo Pants\"},\n",
       " {'category': 'kurtas',\n",
       "  'color': 'black',\n",
       "  'gender': 'women',\n",
       "  'image': 'https://m.media-amazon.com/images/I/31ceb9OY6kL.jpg',\n",
       "  'price': 999.0,\n",
       "  'productlink': 'https://www.amazon.in/KEDARFAB-Womens-Georgette-Embroidery-Dupatta/dp/B0CRNSGNCZ/ref=sr_1_86?dib=eyJ2IjoiMSJ9.grsMDJB5Xd90m-0nNf0xYztnEgSdhOqXhA7X8CavBR54ACVblUbfLw8sOpNSsQOkhBslUi8R_ytF4C6YB4YWJ8GhGLWKMD1pc326moGrc9Zrujc0RFAirAmpYhms5MH9xMu9IZC3Q8ud7P5SqUxWDkauXmCS16EwDO9U_6gY7NscgDM1c6vU6oPvjBwpky5uLPnlC0s2D1Ngv65O-pSdXweVJZSQZIK3tt_l5g7HVpV6IZlPHw9MNaUbSEmIGPsiTP4mKw-EX_vfYC2IDwO8uZkTSir0g5hpJDiQIYuo5sg.rubrPxDhzAiGbh-nsfe33yDII0ORTHZY5FdSPoU4h3I&dib_tag=se&qid=1709007006&s=apparel&sr=1-86',\n",
       "  'title': \"KEDARFAB Women's Georgette Embroidery Kurta with Dupatta.\"}]"
      ]
     },
     "execution_count": 47,
     "metadata": {},
     "output_type": "execute_result"
    }
   ],
   "source": [
    "query = 'Arayna Women\\'s Gold Printed Rayon Black Kurta Set'\n",
    "category = 'kurtas'\n",
    "colour = 'Black'\n",
    "gender = 'women'\n",
    "max_price = 1000\n",
    "min_price = 500\n",
    "k = 5\n",
    "\n",
    "r = get_similar_prod_details(query,category,colour,gender,max_price,min_price,k=k)\n",
    "r"
   ]
  },
  {
   "cell_type": "code",
   "execution_count": 28,
   "id": "78c674d4-a144-4df2-aa77-cd9960b7a8d3",
   "metadata": {},
   "outputs": [],
   "source": [
    "df.to_csv('processed_csv.csv',index=False)"
   ]
  },
  {
   "cell_type": "code",
   "execution_count": 26,
   "id": "bfef9f16",
   "metadata": {},
   "outputs": [
    {
     "data": {
      "text/plain": [
       "{'title': 'https://www.amazon.in/SWISSTONE-Analogue-Silver-Plated-Bracelet/dp/B07FCPL5NX/ref=sr_1_9?crid=26QQFPMZQ3R8H&dib=eyJ2IjoiMSJ9.aE05RnF8eLAw3_u3s9SKF5S0C_PY_9EiXjC7oxZF7RQ26EkVWnhoS1G_Kh47QX3HNCfZJrdtioSLNNIWH5Jf8Xcb20qdZ7ygevl2fjafq-ArntADflhb7RtIAUu9Dl8ANuU8yRFt2IqLhciOgFZT0mhTLe_NzG4ct4W_68SvN5sAr8tPcho4tKg7hS6BO6XY3Uf5QVglbUb2nmOJmL_X1KATgAtJMOJnPdanVCHayLwHkvHgyBJ1amlcV_hvUkuup-_71ThgH4hruyxTtykLmq8Fw80UJILl74tNHc9oKm8.W6GPzN0vNCt-Snnq7ZuVsNlHiTCPiKYwOd0jnK3Z-nM&dib_tag=se&keywords=watches+for+women&qid=1708869419&s=shoes&sprefix=watches+for+women%2Cshoes%2C253&sr=1-9',\n",
       " 'image': 'https://m.media-amazon.com/images/I/419mYM90poL.jpg',\n",
       " 'productlink': 'https://www.amazon.in/SWISSTONE-Analogue-Silver-Plated-Bracelet/dp/B07FCPL5NX/ref=sr_1_9?crid=26QQFPMZQ3R8H&dib=eyJ2IjoiMSJ9.aE05RnF8eLAw3_u3s9SKF5S0C_PY_9EiXjC7oxZF7RQ26EkVWnhoS1G_Kh47QX3HNCfZJrdtioSLNNIWH5Jf8Xcb20qdZ7ygevl2fjafq-ArntADflhb7RtIAUu9Dl8ANuU8yRFt2IqLhciOgFZT0mhTLe_NzG4ct4W_68SvN5sAr8tPcho4tKg7hS6BO6XY3Uf5QVglbUb2nmOJmL_X1KATgAtJMOJnPdanVCHayLwHkvHgyBJ1amlcV_hvUkuup-_71ThgH4hruyxTtykLmq8Fw80UJILl74tNHc9oKm8.W6GPzN0vNCt-Snnq7ZuVsNlHiTCPiKYwOd0jnK3Z-nM&dib_tag=se&keywords=watches+for+women&qid=1708869419&s=shoes&sprefix=watches+for+women%2Cshoes%2C253&sr=1-9',\n",
       " 'category': 'watches',\n",
       " 'colour': 'skin colour',\n",
       " 'gender': 'women',\n",
       " 'price': 299.0}"
      ]
     },
     "execution_count": 26,
     "metadata": {},
     "output_type": "execute_result"
    }
   ],
   "source": [
    "df[df['colour'].str.lower() == 'skin colour'].sample(1).reset_index(drop=True).to_dict('index')[0]"
   ]
  },
  {
   "cell_type": "code",
   "execution_count": 34,
   "id": "0777450a",
   "metadata": {},
   "outputs": [
    {
     "data": {
      "text/plain": [
       "{'title': \"LEWEL Men's Stylish Checkered Half Sleeve Shirt (Black)\",\n",
       " 'image': 'https://m.media-amazon.com/images/I/41MpTSa5+TL.jpg',\n",
       " 'productlink': 'https://www.amazon.in/LEWEL-Stylish-Checkered-Sleeve-Shirt/dp/B0C8N1R12Y/ref=sr_1_41?dib=eyJ2IjoiMSJ9.jmZ53EthLX_x1psnbK2yIyCV652wY26jdq9pFZ6GyJbP044Z-1u1SdzIXahc9s0z7gV3-yJVEKiro3AnTuFAekpebFq-rlPEvxlOZwg7lyQg-SxYy7xr0fr1YckwvuxVwF6FHSH9KVmm1liloiONpwitDSuqUQG-fHdALfB0dPT_9-TfgzF1WpOycW4FnyXIaOWuqINRnoda0Om6hd3113hLQTba8i5Tta9UVretWJPd6BzfDb2na25ZhN1iA_Ca_aZptEp186oDU73D5DfBmhkMsVbH4ZV7002cbK81UW8.X4haWUr28K9CUpC7prvQEuLv0WuLYjiL-rtwD4F44l0&dib_tag=se&qid=1708826822&refinements=p_n_size_two_browse-vebin%3A1975317031&s=apparel&sr=1-41',\n",
       " 'category': 'Shirts',\n",
       " 'colour': 'Black',\n",
       " 'gender': 'men',\n",
       " 'price': 399.0}"
      ]
     },
     "execution_count": 34,
     "metadata": {},
     "output_type": "execute_result"
    }
   ],
   "source": [
    "df[df['title'].str.lower().str.contains('black')].sample(1).reset_index(drop=True).to_dict('index')[0]"
   ]
  },
  {
   "cell_type": "code",
   "execution_count": null,
   "id": "bf6a3d64",
   "metadata": {},
   "outputs": [],
   "source": []
  }
 ],
 "metadata": {
  "kernelspec": {
   "display_name": "Python 3 (ipykernel)",
   "language": "python",
   "name": "python3"
  },
  "language_info": {
   "codemirror_mode": {
    "name": "ipython",
    "version": 3
   },
   "file_extension": ".py",
   "mimetype": "text/x-python",
   "name": "python",
   "nbconvert_exporter": "python",
   "pygments_lexer": "ipython3",
   "version": "3.10.13"
  }
 },
 "nbformat": 4,
 "nbformat_minor": 5
}
